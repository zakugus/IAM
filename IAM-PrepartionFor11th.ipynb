{
 "cells": [
  {
   "cell_type": "markdown",
   "metadata": {},
   "source": [
    "# Anaconda のインストール"
   ]
  },
  {
   "cell_type": "markdown",
   "metadata": {},
   "source": [
    "Anacondaは、Data Science向けのコンパイル済Pythonパッケージの管理用ソフトウェアです。 Anacondaを通して、様々なPythonパッケージ（ライブラリのようなもの）をWindowsでもMacでも簡単にインストールすることができます。\n",
    "\n",
    "WindowsとMacでは少しだけインストール方法が異なります。下記のページを参考にAnacondaをインストールしてください（Optionalと書いてある部分は飛ばしても良い）。すでにPythonに詳しい，Pythonがインストールされている場合は飛ばしても構わないです。"
   ]
  },
  {
   "cell_type": "markdown",
   "metadata": {},
   "source": [
    "### Windows (Python3.9, 64-Bit Graphical Installer (510MB))"
   ]
  },
  {
   "cell_type": "markdown",
   "metadata": {},
   "source": [
    "https://docs.anaconda.com/anaconda/install/windows/"
   ]
  },
  {
   "cell_type": "markdown",
   "metadata": {},
   "source": [
    "### Mac (Python3.9, 64-Bit Graphical Installer (510 MB))"
   ]
  },
  {
   "cell_type": "markdown",
   "metadata": {},
   "source": [
    "https://docs.anaconda.com/anaconda/install/mac-os"
   ]
  },
  {
   "cell_type": "markdown",
   "metadata": {},
   "source": [
    "# インストールされたAnacondaの確認"
   ]
  },
  {
   "cell_type": "markdown",
   "metadata": {},
   "source": [
    "### Windows"
   ]
  },
  {
   "cell_type": "markdown",
   "metadata": {},
   "source": [
    "- スタートメニュー（左下のWindowsマーク）→「Anaconda Navigator」を選択し、「Anaconda Navigator」が起動するか確認（起動に少し時間がかかります）。"
   ]
  },
  {
   "cell_type": "markdown",
   "metadata": {},
   "source": [
    "### Mac"
   ]
  },
  {
   "cell_type": "markdown",
   "metadata": {},
   "source": [
    "- Launchpad →「Anaconda Navigator」を選択し，「Anaconda Navigator」が起動するか確認しましょう（起動に少し時間がかかります）。"
   ]
  },
  {
   "cell_type": "markdown",
   "metadata": {},
   "source": [
    "# Jupyter Notebookの起動"
   ]
  },
  {
   "cell_type": "markdown",
   "metadata": {},
   "source": [
    "Jupyterは、各種プログラミング言語を対話的に実行できるソフトウェアです。Jupyter Notebookでは、ブラウザ上でコードを編集でき、データの表示・視覚化やコードの一部再実行などが容易にできます。"
   ]
  },
  {
   "cell_type": "markdown",
   "metadata": {},
   "source": [
    "### Windows"
   ]
  },
  {
   "cell_type": "markdown",
   "metadata": {},
   "source": [
    "- スタートメニュー（左下のWindowsマーク）→「Jupiter Notebook」を選択"
   ]
  },
  {
   "cell_type": "markdown",
   "metadata": {},
   "source": [
    "### Mac"
   ]
  },
  {
   "cell_type": "markdown",
   "metadata": {},
   "source": [
    "- Launchpad→「その他」→「ターミナル」を選択し，jupyter notebookとタイプ"
   ]
  },
  {
   "cell_type": "markdown",
   "metadata": {},
   "source": [
    "### 共通"
   ]
  },
  {
   "cell_type": "markdown",
   "metadata": {},
   "source": [
    "- ブラウザ上で左上に「jupyter」と書かれている画面が表示されます。\n",
    "- 右上の「New」ボタンを押して「Python 3」をクリック"
   ]
  }
 ],
 "metadata": {
  "kernelspec": {
   "display_name": "Python 3",
   "language": "python",
   "name": "python3"
  },
  "language_info": {
   "codemirror_mode": {
    "name": "ipython",
    "version": 3
   },
   "file_extension": ".py",
   "mimetype": "text/x-python",
   "name": "python",
   "nbconvert_exporter": "python",
   "pygments_lexer": "ipython3",
   "version": "3.7.4"
  }
 },
 "nbformat": 4,
 "nbformat_minor": 2
}
