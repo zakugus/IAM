{
 "cells": [
  {
   "cell_type": "markdown",
   "metadata": {},
   "source": [
    "### (1) データベースの作成"
   ]
  },
  {
   "cell_type": "code",
   "execution_count": 1,
   "metadata": {
    "scrolled": true
   },
   "outputs": [
    {
     "data": {
      "text/plain": [
       "<sqlite3.Cursor at 0x1bfdffddab0>"
      ]
     },
     "execution_count": 1,
     "metadata": {},
     "output_type": "execute_result"
    }
   ],
   "source": [
    "# SQLite のモジュールをインポートする\n",
    "import sqlite3\n",
    " \n",
    "# Club.db に接続する\n",
    "conn = sqlite3.connect(\"Club.db\", isolation_level=None)\n",
    "\n",
    "# \"Members\" テーブルを作成する (id, name, age, hometown) \n",
    "# VARCHAR: 可変長文字列型, INTEGER: 整数, REAL: 実数\n",
    "sql=\"\"\"\n",
    "CREATE TABLE Members (\n",
    "    id VARCHAR(4), \n",
    "    name VARCHAR(30), \n",
    "    age INTEGER, \n",
    "    hometown VARCHAR(20), \n",
    "    year REAL\n",
    ");\n",
    "\"\"\"\n",
    "\n",
    "conn.execute(sql)"
   ]
  },
  {
   "cell_type": "markdown",
   "metadata": {},
   "source": [
    "### (2) テーブル作成のやり直し"
   ]
  },
  {
   "cell_type": "code",
   "execution_count": 2,
   "metadata": {},
   "outputs": [],
   "source": [
    "# データを作り直したいときには、次のコマンドを実行し、\n",
    "# 「(1) データベースの作成」の \"Members\" テーブルを作成する一連のコマンドを、改めて実行する。\n",
    "# その後、以下の「(3) レコードの登録」以降が、実行可能になる。\n",
    "# 実際に実行するには、コメント記号(#)を除いてから実行する。\n",
    "#conn.execute(\"DROP TABLE Members;\")"
   ]
  },
  {
   "cell_type": "markdown",
   "metadata": {},
   "source": [
    "### (3) レコードの登録"
   ]
  },
  {
   "cell_type": "code",
   "execution_count": 3,
   "metadata": {},
   "outputs": [
    {
     "data": {
      "text/plain": [
       "<sqlite3.Cursor at 0x1bfdffdddc0>"
      ]
     },
     "execution_count": 3,
     "metadata": {},
     "output_type": "execute_result"
    }
   ],
   "source": [
    "# レコードを登録する(1)\n",
    "conn.execute(\"INSERT INTO Members VALUES (1001, '佐藤一郎', 25, '京都', 1.5);\")\n",
    "\n",
    "# 次のように、SQL文を、いったん、、別の変数に格納してから、conn.execute(sql) とすることも可能\n",
    "# sql = \"INSERT INTO Members VALUES (1001, '佐藤一郎', 25, '京都', 1.5);\"\n",
    "# conn.execute(sql)\n",
    "#\n",
    "# また、csvファイルなどにまとめたレコードを登録することもできるが、今回の演習では、\n",
    "# レコードを一つずつ登録することで、登録のやり方を練習する。"
   ]
  },
  {
   "cell_type": "code",
   "execution_count": 4,
   "metadata": {},
   "outputs": [
    {
     "data": {
      "text/plain": [
       "<sqlite3.Cursor at 0x1bfdffddf10>"
      ]
     },
     "execution_count": 4,
     "metadata": {},
     "output_type": "execute_result"
    }
   ],
   "source": [
    "# データを登録する(2)\n",
    "conn.execute(\"INSERT INTO Members VALUES (1015, '鈴木花子', 40, '京都', 12.0);\")"
   ]
  },
  {
   "cell_type": "code",
   "execution_count": 5,
   "metadata": {},
   "outputs": [
    {
     "data": {
      "text/plain": [
       "<sqlite3.Cursor at 0x1bfe00e2110>"
      ]
     },
     "execution_count": 5,
     "metadata": {},
     "output_type": "execute_result"
    }
   ],
   "source": [
    "# データを登録する(3)\n",
    "conn.execute(\"INSERT INTO Members VALUES (1027, 'Mary Scott', 33, 'New York', 6.25);\")"
   ]
  },
  {
   "cell_type": "code",
   "execution_count": 6,
   "metadata": {},
   "outputs": [
    {
     "data": {
      "text/plain": [
       "<sqlite3.Cursor at 0x1bfe00e23b0>"
      ]
     },
     "execution_count": 6,
     "metadata": {},
     "output_type": "execute_result"
    }
   ],
   "source": [
    "# データを登録する(4)\n",
    "conn.execute(\"INSERT INTO Members VALUES (1033, 'Kevin Nelson', 45, 'London', 15.5);\")"
   ]
  },
  {
   "cell_type": "code",
   "execution_count": 7,
   "metadata": {},
   "outputs": [
    {
     "data": {
      "text/plain": [
       "<sqlite3.Cursor at 0x1bfe00e2490>"
      ]
     },
     "execution_count": 7,
     "metadata": {},
     "output_type": "execute_result"
    }
   ],
   "source": [
    "# データを登録する(5)\n",
    "conn.execute(\"INSERT INTO Members VALUES (1038, '田中太郎', 37, '京都', 8.75);\")"
   ]
  },
  {
   "cell_type": "code",
   "execution_count": 8,
   "metadata": {},
   "outputs": [
    {
     "data": {
      "text/plain": [
       "<sqlite3.Cursor at 0x1bfe00e2650>"
      ]
     },
     "execution_count": 8,
     "metadata": {},
     "output_type": "execute_result"
    }
   ],
   "source": [
    "# データを登録する(6)\n",
    "conn.execute(\"INSERT INTO Members VALUES (1041, 'Jack Liu', 28, 'New York', 3.25);\")"
   ]
  },
  {
   "cell_type": "code",
   "execution_count": 9,
   "metadata": {},
   "outputs": [
    {
     "data": {
      "text/plain": [
       "<sqlite3.Cursor at 0x1bfe00e28f0>"
      ]
     },
     "execution_count": 9,
     "metadata": {},
     "output_type": "execute_result"
    }
   ],
   "source": [
    "# データを登録する(7)\n",
    "conn.execute(\"INSERT INTO Members VALUES (1052, 'Jiaxin Zhang', 36, 'Beijing', 5.0);\")"
   ]
  },
  {
   "cell_type": "code",
   "execution_count": 10,
   "metadata": {},
   "outputs": [],
   "source": [
    "# 次のように、一度に登録することもできる (実際に実行するときは、コメントの記号 \"#\" を除く)\n",
    "#conn.execute(\"INSERT INTO Members VALUES (1001, '佐藤一郎', 25, '京都', 1.5);\")\n",
    "#conn.execute(\"INSERT INTO Members VALUES (1015, '鈴木花子', 40, '京都', 12.0);\")\n",
    "#conn.execute(\"INSERT INTO Members VALUES (1027, 'Mary Scott', 33, 'New York', 6.25);\")\n",
    "#conn.execute(\"INSERT INTO Members VALUES (1033, 'Kevin Nelson', 45, 'London', 15.5);\")\n",
    "#conn.execute(\"INSERT INTO Members VALUES (1038, '田中太郎', 37, '京都', 8.75);\")\n",
    "#conn.execute(\"INSERT INTO Members VALUES (1041, 'Jack Liu', 28, 'New York', 3.25);\")\n",
    "#conn.execute(\"INSERT INTO Members VALUES (1052, 'Jiaxin Zhang', 36, 'Beijing', 5.0);\")"
   ]
  },
  {
   "cell_type": "markdown",
   "metadata": {},
   "source": [
    "### (4) 登録したレコードの表示"
   ]
  },
  {
   "cell_type": "code",
   "execution_count": 11,
   "metadata": {},
   "outputs": [
    {
     "name": "stdout",
     "output_type": "stream",
     "text": [
      "('1001', '佐藤一郎', 25, '京都', 1.5)\n",
      "('1015', '鈴木花子', 40, '京都', 12.0)\n",
      "('1027', 'Mary Scott', 33, 'New York', 6.25)\n",
      "('1033', 'Kevin Nelson', 45, 'London', 15.5)\n",
      "('1038', '田中太郎', 37, '京都', 8.75)\n",
      "('1041', 'Jack Liu', 28, 'New York', 3.25)\n",
      "('1052', 'Jiaxin Zhang', 36, 'Beijing', 5.0)\n"
     ]
    }
   ],
   "source": [
    "# 登録したデータを取得して表示する\n",
    "c=conn.cursor()\n",
    "c.execute(\"SELECT * FROM Members;\")\n",
    "for row in c:\n",
    "    print(row)"
   ]
  },
  {
   "cell_type": "markdown",
   "metadata": {},
   "source": [
    "### (5) データベースへの接続の終了"
   ]
  },
  {
   "cell_type": "code",
   "execution_count": 12,
   "metadata": {},
   "outputs": [],
   "source": [
    "# データベースを閉じる（データベースを使い終わったときに、閉じる）\n",
    "# 「(1) データベースの作成」の conn = sqlite3.connect(\"Club.db\", isolation_level=None) に対応\n",
    "conn.close();"
   ]
  },
  {
   "cell_type": "markdown",
   "metadata": {},
   "source": [
    "### (6) データベースへの再接続"
   ]
  },
  {
   "cell_type": "code",
   "execution_count": 13,
   "metadata": {},
   "outputs": [],
   "source": [
    "# もう一度、データベース(Club.db)を使用するために、改めて接続する\n",
    "\n",
    "# SQLite のモジュールをインポートする\n",
    "import sqlite3\n",
    " \n",
    "# いったん、データベース(Club.db)を閉じたので、もう一度接続する\n",
    "conn = sqlite3.connect(\"Club.db\", isolation_level=None)"
   ]
  },
  {
   "cell_type": "code",
   "execution_count": 14,
   "metadata": {},
   "outputs": [
    {
     "name": "stdout",
     "output_type": "stream",
     "text": [
      "('1001', '佐藤一郎', 25, '京都', 1.5)\n",
      "('1015', '鈴木花子', 40, '京都', 12.0)\n",
      "('1027', 'Mary Scott', 33, 'New York', 6.25)\n",
      "('1033', 'Kevin Nelson', 45, 'London', 15.5)\n",
      "('1038', '田中太郎', 37, '京都', 8.75)\n",
      "('1041', 'Jack Liu', 28, 'New York', 3.25)\n",
      "('1052', 'Jiaxin Zhang', 36, 'Beijing', 5.0)\n"
     ]
    }
   ],
   "source": [
    "#きちんとデータベース(Club.db)に接続でき、テーブル(Members)を読み込むことができるかを確認\n",
    "c=conn.cursor()\n",
    "c.execute(\"SELECT * FROM Members;\")\n",
    "for row in c:\n",
    "    print(row)"
   ]
  },
  {
   "cell_type": "markdown",
   "metadata": {},
   "source": [
    "### (7) SQL (Structured Query Language) の使用例"
   ]
  },
  {
   "cell_type": "code",
   "execution_count": 15,
   "metadata": {},
   "outputs": [
    {
     "name": "stdout",
     "output_type": "stream",
     "text": [
      "('1001', '佐藤一郎', 25, '京都', 1.5)\n",
      "('1015', '鈴木花子', 40, '京都', 12.0)\n",
      "('1038', '田中太郎', 37, '京都', 8.75)\n"
     ]
    }
   ],
   "source": [
    "# 特定のレコードを取得する例\n",
    "# 「京都」出身者のレコードを取得する\n",
    "sql=\"SELECT * FROM Members WHERE hometown='京都';\"\n",
    "c=conn.execute(sql)\n",
    "for row in c:\n",
    "    print (row)"
   ]
  },
  {
   "cell_type": "code",
   "execution_count": 16,
   "metadata": {},
   "outputs": [
    {
     "name": "stdout",
     "output_type": "stream",
     "text": [
      "34.857142857142854\n"
     ]
    }
   ],
   "source": [
    "# 年齢の平均を計算する\n",
    "sql=\"SELECT avg(age) FROM Members;\"\n",
    "c.execute(sql)\n",
    "row = c.fetchone()\n",
    "print(row[0])"
   ]
  },
  {
   "cell_type": "code",
   "execution_count": 17,
   "metadata": {},
   "outputs": [
    {
     "name": "stdout",
     "output_type": "stream",
     "text": [
      "('Kevin Nelson', 45)\n",
      "('鈴木花子', 40)\n",
      "('田中太郎', 37)\n",
      "('Jiaxin Zhang', 36)\n",
      "('Mary Scott', 33)\n",
      "('Jack Liu', 28)\n",
      "('佐藤一郎', 25)\n"
     ]
    }
   ],
   "source": [
    "# 年齢の降順(descending order)に並べる\n",
    "sql=\"SELECT name, age from Members ORDER BY age DESC;\"\n",
    "c.execute(sql)\n",
    "for row in c: \n",
    "    print (row)"
   ]
  },
  {
   "cell_type": "code",
   "execution_count": 18,
   "metadata": {},
   "outputs": [
    {
     "name": "stdout",
     "output_type": "stream",
     "text": [
      "('佐藤一郎', 25)\n",
      "('Jack Liu', 28)\n",
      "('Mary Scott', 33)\n",
      "('Jiaxin Zhang', 36)\n",
      "('田中太郎', 37)\n",
      "('鈴木花子', 40)\n",
      "('Kevin Nelson', 45)\n"
     ]
    }
   ],
   "source": [
    "# 年齢の昇順(ascending order)に並べる\n",
    "sql=\"SELECT name, age from Members ORDER BY age ASC;\"\n",
    "c.execute(sql)\n",
    "for row in c: \n",
    "    print (row)"
   ]
  },
  {
   "cell_type": "code",
   "execution_count": 19,
   "metadata": {},
   "outputs": [
    {
     "name": "stdout",
     "output_type": "stream",
     "text": [
      "('1001', '佐藤一郎', 25, '京都', 1.5)\n",
      "('1027', 'Mary Scott', 33, 'New York', 6.25)\n",
      "('1041', 'Jack Liu', 28, 'New York', 3.25)\n"
     ]
    }
   ],
   "source": [
    "# 35歳未満のメンバーのレコードを取得する\n",
    "sql=\"SELECT * FROM Members WHERE age<35;\"\n",
    "c.execute(sql)\n",
    "for row in c: \n",
    "    print (row)"
   ]
  },
  {
   "cell_type": "code",
   "execution_count": 20,
   "metadata": {},
   "outputs": [
    {
     "name": "stdout",
     "output_type": "stream",
     "text": [
      "45\n"
     ]
    }
   ],
   "source": [
    "# 年齢の最大値を表示する\n",
    "sql=\"SELECT MAX(age) FROM Members;\"\n",
    "c.execute(sql)\n",
    "row = c.fetchone()\n",
    "print(row[0])"
   ]
  },
  {
   "cell_type": "code",
   "execution_count": 21,
   "metadata": {},
   "outputs": [
    {
     "name": "stdout",
     "output_type": "stream",
     "text": [
      "25\n"
     ]
    }
   ],
   "source": [
    "# 年齢の最小値を表示する\n",
    "sql=\"SELECT MIN(age) FROM Members;\"\n",
    "c.execute(sql)\n",
    "row = c.fetchone()\n",
    "print(row[0])"
   ]
  },
  {
   "cell_type": "code",
   "execution_count": 22,
   "metadata": {},
   "outputs": [
    {
     "name": "stdout",
     "output_type": "stream",
     "text": [
      "('Beijing', 1)\n",
      "('London', 1)\n",
      "('New York', 2)\n",
      "('京都', 3)\n"
     ]
    }
   ],
   "source": [
    "# Membersテーブルをhometownでグループ化して、hometownの名前と、それぞれのレコード数を取得する\n",
    "sql= \"SELECT hometown, count(*) FROM Members GROUP BY hometown;\"\n",
    "c.execute(sql)\n",
    "for row in c: \n",
    "    print (row)"
   ]
  },
  {
   "cell_type": "code",
   "execution_count": 23,
   "metadata": {},
   "outputs": [
    {
     "name": "stdout",
     "output_type": "stream",
     "text": [
      "('Beijing', 36.0)\n",
      "('London', 45.0)\n",
      "('New York', 30.5)\n",
      "('京都', 34.0)\n"
     ]
    }
   ],
   "source": [
    "# Membersテーブルをhometownでグループ化して、hometownの名前と、そのhometown出身者の平均年齢を計算する\n",
    "sql= \"SELECT hometown, AVG(age) FROM Members GROUP BY hometown;\"\n",
    "c.execute(sql)\n",
    "for row in c: \n",
    "    print (row)"
   ]
  }
 ],
 "metadata": {
  "kernelspec": {
   "display_name": "Python 3 (ipykernel)",
   "language": "python",
   "name": "python3"
  },
  "language_info": {
   "codemirror_mode": {
    "name": "ipython",
    "version": 3
   },
   "file_extension": ".py",
   "mimetype": "text/x-python",
   "name": "python",
   "nbconvert_exporter": "python",
   "pygments_lexer": "ipython3",
   "version": "3.9.7"
  }
 },
 "nbformat": 4,
 "nbformat_minor": 2
}
