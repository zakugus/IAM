{
 "cells": [
  {
   "cell_type": "markdown",
   "metadata": {},
   "source": [
    "# 関数の定義\n",
    "特定の入力値に対して、何らかの値を返すもの。"
   ]
  },
  {
   "cell_type": "markdown",
   "metadata": {},
   "source": [
    "### 例1）リストの中の要素数を調べる、len()"
   ]
  },
  {
   "cell_type": "code",
   "execution_count": 1,
   "metadata": {},
   "outputs": [
    {
     "data": {
      "text/plain": [
       "7"
      ]
     },
     "execution_count": 1,
     "metadata": {},
     "output_type": "execute_result"
    }
   ],
   "source": [
    "a=[3, 7, 8, 5, 12, 6, 2]\n",
    "len(a)"
   ]
  },
  {
   "cell_type": "markdown",
   "metadata": {},
   "source": [
    "### 例2) 入力を促す、input()"
   ]
  },
  {
   "cell_type": "code",
   "execution_count": 2,
   "metadata": {},
   "outputs": [
    {
     "name": "stdout",
     "output_type": "stream",
     "text": [
      "[Input] What is your name? Kazunari Sugiyama\n",
      "[Output] Hello,  Kazunari Sugiyama\n"
     ]
    }
   ],
   "source": [
    "x=input('[Input] What is your name? ')\n",
    "print('[Output] Hello, ', x)"
   ]
  },
  {
   "cell_type": "markdown",
   "metadata": {},
   "source": [
    "### 例3) 自分で関数を定義することもできる"
   ]
  },
  {
   "cell_type": "code",
   "execution_count": 3,
   "metadata": {},
   "outputs": [],
   "source": [
    "# 例3-1) 引数が1つの例\n",
    "def AreaOfCircle(r): \n",
    "    area = r * r * 3.14\n",
    "    print ('Radius:', r, 'Area:', area)"
   ]
  },
  {
   "cell_type": "code",
   "execution_count": 4,
   "metadata": {},
   "outputs": [
    {
     "name": "stdout",
     "output_type": "stream",
     "text": [
      "Radius: 3 Area: 28.26\n",
      "Radius: 6 Area: 113.04\n"
     ]
    }
   ],
   "source": [
    "# 引数を指定して、関数AreaOfCircle() を実行\n",
    "AreaOfCircle(3)\n",
    "AreaOfCircle(6)"
   ]
  },
  {
   "cell_type": "code",
   "execution_count": 5,
   "metadata": {},
   "outputs": [],
   "source": [
    "# 例3-2) 引数が2つの例\n",
    "def AreaOfRectangle(x, y):\n",
    "    area = x * y\n",
    "    # 'return' を指定すると、計算した値を、そのまま返す \n",
    "    return area"
   ]
  },
  {
   "cell_type": "code",
   "execution_count": 6,
   "metadata": {},
   "outputs": [
    {
     "data": {
      "text/plain": [
       "21"
      ]
     },
     "execution_count": 6,
     "metadata": {},
     "output_type": "execute_result"
    }
   ],
   "source": [
    "# 引数を指定して、関数AreaOfRectangle() を実行\n",
    "AreaOfRectangle(3, 7)"
   ]
  },
  {
   "cell_type": "code",
   "execution_count": 7,
   "metadata": {},
   "outputs": [
    {
     "data": {
      "text/plain": [
       "6.25"
      ]
     },
     "execution_count": 7,
     "metadata": {},
     "output_type": "execute_result"
    }
   ],
   "source": [
    "# 引数を指定して、関数AreaOfRectangle() を実行\n",
    "AreaOfRectangle(2.5, 2.5)"
   ]
  },
  {
   "cell_type": "markdown",
   "metadata": {},
   "source": [
    "### シグモイド (sigmoid) 関数\n",
    "ニューラルネットワークでよく用いられる活性化関数の一つ。\n",
    "\n",
    "$\\sigma(x)=\\frac{1}{1+e^{-x}}$"
   ]
  },
  {
   "cell_type": "code",
   "execution_count": 17,
   "metadata": {},
   "outputs": [
    {
     "data": {
      "image/png": "[encoded data removed]",
      "text/plain": [
       "<Figure size 432x288 with 1 Axes>"
      ]
     },
     "metadata": {
      "needs_background": "light"
     },
     "output_type": "display_data"
    }
   ],
   "source": [
    "import numpy as np\n",
    "import matplotlib.pylab as plt\n",
    "\n",
    "def sigmoid(x):\n",
    "    return 1 / (1+np.exp(-x))\n",
    "\n",
    "x = np.arange(-5.0, 5.0, 0.1) #x=-5.0から5.0まで、0.1刻みでNumpy配列を生成する ([-5.0, -4.9, ..., 4.9])\n",
    "y = sigmoid(x)\n",
    "plt.plot(x, y)\n",
    "plt.ylim(-0.1, 1.1) #y軸の範囲を指定\n",
    "\n",
    "plt.grid(True)\n",
    "plt.title(\"Sigmoid fuction\")\n",
    "plt.xlabel(\"x\")\n",
    "plt.ylabel(\"$\\sigma(x)$\")\n",
    "plt.show()"
   ]
  },
  {
   "cell_type": "code",
   "execution_count": 9,
   "metadata": {},
   "outputs": [
    {
     "data": {
      "text/plain": [
       "0.9706877692486436"
      ]
     },
     "execution_count": 9,
     "metadata": {},
     "output_type": "execute_result"
    }
   ],
   "source": [
    "# sigmoid関数の値を計算\n",
    "# 変数に1つだけ値を入力する場合\n",
    "x=3.5\n",
    "sigmoid(x)"
   ]
  },
  {
   "cell_type": "code",
   "execution_count": 10,
   "metadata": {},
   "outputs": [
    {
     "data": {
      "text/plain": [
       "array([0.02412702, 0.77729986, 0.92414182])"
      ]
     },
     "execution_count": 10,
     "metadata": {},
     "output_type": "execute_result"
    }
   ],
   "source": [
    "# 配列にいくつか値を入れて、計算することも可能\n",
    "x=np.array([-3.7, 1.25, 2.5])\n",
    "sigmoid(x)"
   ]
  },
  {
   "cell_type": "markdown",
   "metadata": {},
   "source": [
    "### ReLU (Rectified Linear Unit) 関数\n",
    "ニューラルネットワークにおいては、シグモイド関数が古くから利用されてきたが、最近では、ReLU関数も良く用いられる。\n",
    "\n",
    "$\n",
    "ReLU(x)=\n",
    "\\left\\{\n",
    "\\begin{array}{l}\n",
    "x\\quad (x> 0) \\\\\n",
    "0\\quad (x\\le 0)\n",
    "\\end{array}\n",
    "\\right.\n",
    "$\n"
   ]
  },
  {
   "cell_type": "code",
   "execution_count": 11,
   "metadata": {},
   "outputs": [
    {
     "data": {
      "image/png": "[encoded data removed]",
      "text/plain": [
       "<Figure size 432x288 with 1 Axes>"
      ]
     },
     "metadata": {
      "needs_background": "light"
     },
     "output_type": "display_data"
    }
   ],
   "source": [
    "import numpy as np\n",
    "import matplotlib.pylab as plt\n",
    "\n",
    "def relu(x):\n",
    "    return np.maximum(0, x) # maximum関数は、入力された値から大きいほうの値を選んで出力する\n",
    "\n",
    "x = np.arange(-5.0, 5.0, 0.1) #x=-5.0から5.0まで、0.1刻みでNumpy配列を生成する ([-5.0, -4.9, ..., 4.9])\n",
    "y = relu(x)\n",
    "plt.ylim(-1.0, 5.5) #y軸の範囲を指定\n",
    "plt.plot(x, y)\n",
    "\n",
    "plt.grid(True)\n",
    "plt.title(\"Rectified Linear Unit (ReLU)\")\n",
    "plt.xlabel(\"x\")\n",
    "plt.ylabel(\"$ReLU(x)$\")\n",
    "plt.show()"
   ]
  },
  {
   "cell_type": "code",
   "execution_count": 12,
   "metadata": {},
   "outputs": [
    {
     "data": {
      "text/plain": [
       "4.12"
      ]
     },
     "execution_count": 12,
     "metadata": {},
     "output_type": "execute_result"
    }
   ],
   "source": [
    "# ReLU関数の値を計算\n",
    "# 変数に1つだけ値を入力する場合\n",
    "x=4.12\n",
    "relu(x)"
   ]
  },
  {
   "cell_type": "code",
   "execution_count": 13,
   "metadata": {},
   "outputs": [
    {
     "data": {
      "text/plain": [
       "array([0.  , 1.56, 3.75])"
      ]
     },
     "execution_count": 13,
     "metadata": {},
     "output_type": "execute_result"
    }
   ],
   "source": [
    "# 配列にいくつか値を入れて、計算することも可能\n",
    "x=np.array([-2.37, 1.56, 3.75])\n",
    "relu(x)"
   ]
  },
  {
   "cell_type": "markdown",
   "metadata": {},
   "source": [
    "### Hyperbolic tangent (tanh) 関数\n",
    "活性化関数は原点を通すべきという考えから、シグモイド関数を線形変換したtanhの方が良いとして、提案された。\n",
    "\n",
    "\n",
    "$\\tanh(x)=\\frac{e^{x}-e^{-x}}{e^{x}+e^{-x}}$"
   ]
  },
  {
   "cell_type": "code",
   "execution_count": 14,
   "metadata": {},
   "outputs": [
    {
     "data": {
      "image/png": "[encoded data removed]",
      "text/plain": [
       "<Figure size 432x288 with 1 Axes>"
      ]
     },
     "metadata": {
      "needs_background": "light"
     },
     "output_type": "display_data"
    }
   ],
   "source": [
    "import numpy as np\n",
    "import matplotlib.pylab as plt\n",
    "\n",
    "def tanh(x):\n",
    "    return (np.exp(x)-np.exp(-x)) / (np.exp(x)+np.exp(-x))\n",
    "\n",
    "x = np.arange(-5.0, 5.0, 0.1) #x=-5.0から5.0まで、0.1刻みでNumpy配列を生成する ([-5.0, -4.9, ..., 4.9])\n",
    "y = tanh(x)\n",
    "plt.plot(x, y)\n",
    "plt.ylim(-1.1, 1.1) #y軸の範囲を指定\n",
    "\n",
    "plt.grid(True)\n",
    "plt.title(\"Hyperbolic tangent fuction\")\n",
    "plt.xlabel(\"x\")\n",
    "plt.ylabel(\"$tanh(x)$\")\n",
    "plt.show()"
   ]
  },
  {
   "cell_type": "code",
   "execution_count": 15,
   "metadata": {},
   "outputs": [
    {
     "data": {
      "text/plain": [
       "-0.8425793256589296"
      ]
     },
     "execution_count": 15,
     "metadata": {},
     "output_type": "execute_result"
    }
   ],
   "source": [
    "# tanh関数の値を計算\n",
    "# 変数に1つだけ値を入力する場合\n",
    "x=-1.23\n",
    "tanh(x)"
   ]
  },
  {
   "cell_type": "code",
   "execution_count": 16,
   "metadata": {},
   "outputs": [
    {
     "data": {
      "text/plain": [
       "array([-0.63514895,  0.84828364,  0.98267411])"
      ]
     },
     "execution_count": 16,
     "metadata": {},
     "output_type": "execute_result"
    }
   ],
   "source": [
    "# 配列にいくつか値を入れて、計算することも可能\n",
    "x=np.array([-0.75, 1.25, 2.37])\n",
    "tanh(x)"
   ]
  }
 ],
 "metadata": {
  "kernelspec": {
   "display_name": "Python 3",
   "language": "python",
   "name": "python3"
  },
  "language_info": {
   "codemirror_mode": {
    "name": "ipython",
    "version": 3
   },
   "file_extension": ".py",
   "mimetype": "text/x-python",
   "name": "python",
   "nbconvert_exporter": "python",
   "pygments_lexer": "ipython3",
   "version": "3.7.4"
  }
 },
 "nbformat": 4,
 "nbformat_minor": 2
}
