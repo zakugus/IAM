{
 "cells": [
  {
   "cell_type": "markdown",
   "metadata": {},
   "source": [
    "# 制御構文 (if, while, for文)\n",
    "\n",
    "### if文と関係演算子\n",
    "関係演算子：2つの変数間の大小関係を調べるための演算子。\n",
    "\n",
    "- \">\" より大きい\n",
    "- \"<\" より小さい\n",
    "- \">=\" 以上\n",
    "- \"<=\" 以下\n",
    "- \"==\" 等しい\n",
    "- \"!=\" 等しくない\n"
   ]
  },
  {
   "cell_type": "code",
   "execution_count": 1,
   "metadata": {},
   "outputs": [
    {
     "name": "stdout",
     "output_type": "stream",
     "text": [
      "x is not \"5\".\n"
     ]
    }
   ],
   "source": [
    "# if文: \"!=\" の使用例\n",
    "\n",
    "#（次の2つの値について、コメントマーク\"#\"を入れ替えて、試してみよ。）\n",
    "#x = 5\n",
    "x = 7\n",
    "\n",
    "if x != 5: \n",
    "    print ('x is not \"5\".') #(b)\n",
    "else: \n",
    "    print ('x is \"5\".') # (a)"
   ]
  },
  {
   "cell_type": "code",
   "execution_count": 2,
   "metadata": {},
   "outputs": [
    {
     "name": "stdout",
     "output_type": "stream",
     "text": [
      "x is an odd number.\n"
     ]
    }
   ],
   "source": [
    "# if文: \"==\" の使用例\n",
    "\n",
    "#（次の2つの値について、コメントマーク\"#\"を入れ替えて、試してみよ。）\n",
    "#x = 8\n",
    "x = 3\n",
    "\n",
    "if x % 2 == 0:\n",
    "    print(\"x is an even number.\")\n",
    "else:\n",
    "    print(\"x is an odd number.\")"
   ]
  },
  {
   "cell_type": "markdown",
   "metadata": {},
   "source": [
    "### if文と論理演算子\n",
    "\n",
    "論理演算の結果を組み合わせたり、否定するときに使用する。\n",
    "\n",
    "- \"and\" AND（かつ）\n",
    "- \"or\" OR（または）\n"
   ]
  },
  {
   "cell_type": "code",
   "execution_count": 3,
   "metadata": {},
   "outputs": [
    {
     "name": "stdout",
     "output_type": "stream",
     "text": [
      "x は、正の奇数\n",
      "x は、正の奇数ではない\n",
      "x は、正の奇数ではない\n",
      "x は、正の奇数ではない\n"
     ]
    }
   ],
   "source": [
    "# 関数If_AND_NOT を定義し、if文と論理演算子(ANDとNOT)を使用した例\n",
    "\n",
    "def If_AND_NOT(x):\n",
    "    # x が、0以上、かつ xを2で割った余りが0でない\n",
    "    if x >= 0 and not x % 2 == 0:\n",
    "        print('x は、正の奇数')\n",
    "    else:\n",
    "        print('x は、正の奇数ではない')\n",
    "\n",
    "# 引数に5, 8, -20 を与えて、実行する\n",
    "If_AND_NOT(5)\n",
    "If_AND_NOT(8)\n",
    "If_AND_NOT(-20)\n",
    "If_AND_NOT(-15)"
   ]
  },
  {
   "cell_type": "markdown",
   "metadata": {},
   "source": [
    "# While 文\n",
    "条件が満たされている間、指定したコードを繰り返し実行する。"
   ]
  },
  {
   "cell_type": "code",
   "execution_count": 4,
   "metadata": {},
   "outputs": [
    {
     "name": "stdout",
     "output_type": "stream",
     "text": [
      "0\n",
      "1\n",
      "2\n",
      "3\n"
     ]
    }
   ],
   "source": [
    "# 簡単なwhile文の使用例\n",
    "\n",
    "i = 0 # iに初期値を設定する (コメントアウトして、どのようになるか、確かめてみよ)\n",
    "\n",
    "while i < 4: \n",
    "    print(i)\n",
    "    i += 1 # その他のプログラム言語でよく使用される \"i = i + 1\" と同じ"
   ]
  },
  {
   "cell_type": "code",
   "execution_count": 5,
   "metadata": {},
   "outputs": [
    {
     "name": "stdout",
     "output_type": "stream",
     "text": [
      "i = 0\n",
      "i = 1\n",
      "i = 2\n",
      "*** BREAK ***\n"
     ]
    }
   ],
   "source": [
    "# \"break\": 条件により、途中で終了する\n",
    "\n",
    "i = 0 # iに初期値を設定する\n",
    "\n",
    "while i < 4:\n",
    "    print('i =', i)\n",
    "    if i == 2:\n",
    "        print('*** BREAK ***')\n",
    "        break\n",
    "    i += 1"
   ]
  },
  {
   "cell_type": "code",
   "execution_count": 6,
   "metadata": {},
   "outputs": [
    {
     "name": "stdout",
     "output_type": "stream",
     "text": [
      "i = 0\n",
      "*** CONTINUE ***\n",
      "i = 2\n",
      "i = 3\n"
     ]
    }
   ],
   "source": [
    "# \"continue\": ある条件で、その後のブロック内の処理をスキップしたい場合に用いる\n",
    "\n",
    "i = 0 # iに初期値を設定する\n",
    "\n",
    "while i < 4:\n",
    "    if i == 1:\n",
    "        print('*** CONTINUE ***')\n",
    "        i += 1\n",
    "        continue\n",
    "    print('i =', i)\n",
    "    i += 1\n",
    "    "
   ]
  },
  {
   "cell_type": "markdown",
   "metadata": {},
   "source": [
    "# for文\n",
    "文字列やリストのように、つながっているものに対する繰り返し処理や操作をしたいときに用いる。"
   ]
  },
  {
   "cell_type": "code",
   "execution_count": 7,
   "metadata": {},
   "outputs": [
    {
     "name": "stdout",
     "output_type": "stream",
     "text": [
      "[0, 1, 2, 3, 4]\n",
      "0\n",
      "1\n",
      "2\n",
      "3\n",
      "4\n"
     ]
    }
   ],
   "source": [
    "# 関数range()によって、0～4までの数を生成し、表示させる\n",
    "\n",
    "# リスト形式で表示\n",
    "print(list(range(5)))\n",
    "\n",
    "# for文を使用して、リストの各要素を表示\n",
    "for i in range(5): \n",
    "    print(i)"
   ]
  },
  {
   "cell_type": "code",
   "execution_count": 8,
   "metadata": {},
   "outputs": [
    {
     "name": "stdout",
     "output_type": "stream",
     "text": [
      "3\n",
      "4\n",
      "5\n",
      "9\n",
      "8\n"
     ]
    }
   ],
   "source": [
    "# random.sample()関数によって、重複なしの整数の乱数を発生させ、各値を表示\n",
    "import random\n",
    "\n",
    "# 10までの乱数を5つ発生させ、各値を表示\n",
    "for i in list(random.sample(range(10), k=5)): \n",
    "    print(i)"
   ]
  },
  {
   "cell_type": "code",
   "execution_count": 9,
   "metadata": {},
   "outputs": [
    {
     "name": "stdout",
     "output_type": "stream",
     "text": [
      "['dog', 'cat', 'swallow', 'lion', 'elephant']\n",
      "dog\n",
      "cat\n",
      "swallow\n",
      "lion\n",
      "elephant\n"
     ]
    }
   ],
   "source": [
    "# リスト\"animals\" (第13回の演習時と同じもの)\n",
    "animals = ['dog', 'cat', 'swallow', 'lion', 'elephant']\n",
    "print(animals)\n",
    "\n",
    "# for文を使用して、リストの各要素を表示\n",
    "for name in animals: \n",
    "    print(name)"
   ]
  },
  {
   "cell_type": "code",
   "execution_count": 10,
   "metadata": {},
   "outputs": [
    {
     "name": "stdout",
     "output_type": "stream",
     "text": [
      "0 dog\n",
      "1 cat\n",
      "2 swallow\n",
      "3 lion\n",
      "4 elephant\n"
     ]
    }
   ],
   "source": [
    "# リスト\"animals\"の各要素を、enumerate()関数を用いて、番号付きで表示する\n",
    "# enumerate()関数は、for文を用いて、リストなどの要素ととともに、番号を取得できる\n",
    "animals = ['dog', 'cat', 'swallow', 'lion', 'elephant']\n",
    "for id, name in enumerate(animals):\n",
    "    print(id, name)"
   ]
  },
  {
   "cell_type": "code",
   "execution_count": 11,
   "metadata": {},
   "outputs": [
    {
     "name": "stdout",
     "output_type": "stream",
     "text": [
      "Radius: 3 => Area: 28.26\n",
      "Radius: 6 => Area: 113.04\n",
      "Radius: 8 => Area: 200.96\n",
      "Radius: 11 => Area: 379.94\n"
     ]
    }
   ],
   "source": [
    "# 第14回の円の面積を求める関数AreaOfCircle(r) と、for文を組み合わせる\n",
    "\n",
    "radius = [3, 6, 8, 11]\n",
    "\n",
    "def AreaOfCircle(r):\n",
    "    area = r * r * 3.14\n",
    "    return area\n",
    "\n",
    "for r in radius: \n",
    "    area = AreaOfCircle(r)\n",
    "    print ('Radius:', r, '=> Area:', area)\n"
   ]
  }
 ],
 "metadata": {
  "kernelspec": {
   "display_name": "Python 3",
   "language": "python",
   "name": "python3"
  },
  "language_info": {
   "codemirror_mode": {
    "name": "ipython",
    "version": 3
   },
   "file_extension": ".py",
   "mimetype": "text/x-python",
   "name": "python",
   "nbconvert_exporter": "python",
   "pygments_lexer": "ipython3",
   "version": "3.7.4"
  }
 },
 "nbformat": 4,
 "nbformat_minor": 2
}
